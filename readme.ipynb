{
 "cells": [
  {
   "cell_type": "markdown",
   "metadata": {},
   "source": [
    "本说明包括从处理数据到输出eval结果的全过程"
   ]
  },
  {
   "cell_type": "markdown",
   "metadata": {},
   "source": [
    "1、process data：\n",
    "首先从原路径中读取corpus文件：/share/peitian/Data/Datasets/llm-embedder/qa/msmarco/corpus.json\n",
    "之后调用process_corpus.py：\n",
    "python scripts/process_corpus.py --collection-path /share/peitian/Data/Datasets/llm-embedder/qa/msmarco/corpus.json --output-folder /share/yutao/yifei/bm25_data/corpus\n",
    "\n",
    "需要提前在主文件旁新建一个文件夹叫“bm25_data”\n",
    "它会在主目录旁边新创建一个corpus文件夹，里面有9个.json文件\n",
    "\n",
    "之后从原路径中读取queries文件：/share/peitian/Data/Datasets/llm-embedder/qa/msmarco/train.json\n",
    "\n",
    "之后调用process_queries.py：\n",
    "python scripts/process_queries.py --collection-path /share/peitian/Data/Datasets/llm-embedder/qa/msmarco/train.json --output-folder /share/yutao/yifei/bm25_data/queries\n",
    "\n",
    "它会在主目录旁边新创建一个queries文件夹，里面有41个.tsv文件\n",
    "\n",
    "这之后，corpus的json文件中每一条数据格式为：{\"id\": id, \"contents\": contents}\n",
    "queries的json文件中每一条数据格式为：{id query}"
   ]
  },
  {
   "cell_type": "markdown",
   "metadata": {},
   "source": [
    "2、indexing\n",
    "在bm25_data里创建一个文件名为index_msmarco，用于存储index\n",
    "之后调用命令：\n",
    "target/appassembler/bin/IndexCollection \\\n",
    "  -collection JsonCollection \\\n",
    "  -input /share/yutao/yifei/bm25_data/corpus \\\n",
    "  -index /share/yutao/yifei/bm25_data/index_msmarco \\\n",
    "  -generator DefaultLuceneDocumentGenerator \\\n",
    "  -threads 9 -storePositions -storeDocvectors -storeRaw "
   ]
  },
  {
   "cell_type": "markdown",
   "metadata": {},
   "source": [
    "3、retrieval\n",
    "调用命令：\n",
    "python scripts/mk_command.py\n",
    "\n",
    "它会对之前保存的41个query的.tsv文件分别创建retrieval的命令，将所有命令保存到“commands.txt”中\n",
    "\n",
    "之后调用命令：bash commands.txt\n",
    "\n",
    "在bm25_data中构造了41个retrieval结果，分别保存为f\"run.msmarco-passage.{num}.tsv\"\n",
    "\n",
    "之后合并结果：\n",
    "\n",
    "调用命令\n",
    "python BM25-evaluation/scripts/summary_runs.py --input-folder /share/yutao/yifei/bm25_data/output_runs --output-file /share/yutao/yifei/bm25_data/output_runs/run.msmarco.tsv\n",
    "\n",
    "它会生成最终的结果文件：bm25_data/output_runs/run.msmarco.tsv\n",
    "文件中每一行格式为：qid docid   rank，中间用'\\t'隔开\n",
    "\n",
    "之后bm25_data/output_runs中其他结果都没用了，可删"
   ]
  },
  {
   "cell_type": "markdown",
   "metadata": {},
   "source": [
    "4、eval\n",
    "首先将原来train的数据处理成anserini中qrel的格式：\n",
    "\n",
    "调用指令\n",
    "python BM25-evaluation/scripts/convert_train_to_trec_qrels.py --input /share/peitian/Data/Datasets/llm-embedder/qa/msmarco/train.json --output /share/yutao/yifei/bm25_data/qrels.tsv\n",
    "\n",
    "之后调用eval函数：\n",
    "python scripts/msmarco_passage_eval.py \\\n",
    "/share/yutao/yifei/bm25_data/qrels.tsv /share/yutao/yifei/bm25_data/output_runs/run.msmarco.tsv\n",
    "\n",
    "会显示出MRR @10结果应该如下：\n",
    "\n",
    "#####################\n",
    "MRR @10: 0.23002808610498265\n",
    "QueriesRanked: 400775\n",
    "#####################"
   ]
  }
 ],
 "metadata": {
  "language_info": {
   "name": "python"
  }
 },
 "nbformat": 4,
 "nbformat_minor": 2
}
